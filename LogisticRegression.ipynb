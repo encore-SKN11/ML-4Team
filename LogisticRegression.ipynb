{
 "cells": [
  {
   "cell_type": "markdown",
   "metadata": {},
   "source": [
    "## LogisticRegression"
   ]
  },
  {
   "cell_type": "code",
   "execution_count": 4,
   "metadata": {},
   "outputs": [],
   "source": [
    "import pandas as pd\n",
    "import numpy as np\n",
    "import matplotlib.pyplot as plt\n",
    "import seaborn as sns"
   ]
  },
  {
   "cell_type": "code",
   "execution_count": 5,
   "metadata": {},
   "outputs": [],
   "source": [
    "df = pd.read_csv('./data/train.csv')\n",
    "test_df = pd.read_csv('./data/test.csv')"
   ]
  },
  {
   "cell_type": "code",
   "execution_count": 6,
   "metadata": {},
   "outputs": [
    {
     "name": "stdout",
     "output_type": "stream",
     "text": [
      "<class 'pandas.core.frame.DataFrame'>\n",
      "RangeIndex: 10000 entries, 0 to 9999\n",
      "Data columns (total 18 columns):\n",
      " #   Column             Non-Null Count  Dtype  \n",
      "---  ------             --------------  -----  \n",
      " 0   UID                10000 non-null  object \n",
      " 1   주거 형태              10000 non-null  object \n",
      " 2   연간 소득              10000 non-null  float64\n",
      " 3   현재 직장 근속 연수        10000 non-null  object \n",
      " 4   체납 세금 압류 횟수        10000 non-null  float64\n",
      " 5   개설된 신용계좌 수         10000 non-null  int64  \n",
      " 6   신용 거래 연수           10000 non-null  float64\n",
      " 7   최대 신용한도            10000 non-null  float64\n",
      " 8   신용 문제 발생 횟수        10000 non-null  int64  \n",
      " 9   마지막 연체 이후 경과 개월 수  10000 non-null  int64  \n",
      " 10  개인 파산 횟수           10000 non-null  int64  \n",
      " 11  대출 목적              10000 non-null  object \n",
      " 12  대출 상환 기간           10000 non-null  object \n",
      " 13  현재 대출 잔액           10000 non-null  float64\n",
      " 14  현재 미상환 신용액         10000 non-null  float64\n",
      " 15  월 상환 부채액           10000 non-null  float64\n",
      " 16  신용 점수              10000 non-null  int64  \n",
      " 17  채무 불이행 여부          10000 non-null  int64  \n",
      "dtypes: float64(7), int64(6), object(5)\n",
      "memory usage: 1.4+ MB\n"
     ]
    }
   ],
   "source": [
    "df.info()   # non-null: 이상치 없음음"
   ]
  },
  {
   "cell_type": "code",
   "execution_count": 7,
   "metadata": {},
   "outputs": [
    {
     "name": "stdout",
     "output_type": "stream",
     "text": [
      "              UID            주거 형태      연간 소득 현재 직장 근속 연수  체납 세금 압류 횟수  \\\n",
      "0     TRAIN_00000               자가  1941337.5      10년 이상          0.0   \n",
      "1     TRAIN_00001               월세  1979505.0      10년 이상          0.0   \n",
      "2     TRAIN_00002               월세  1356381.0          4년          0.0   \n",
      "3     TRAIN_00003               월세  1049017.5          6년          0.0   \n",
      "4     TRAIN_00004               월세  4320217.5          2년          0.0   \n",
      "...           ...              ...        ...         ...          ...   \n",
      "9995  TRAIN_09995  주택 담보 대출 (거주 중)  1339473.0      10년 이상          0.0   \n",
      "9996  TRAIN_09996  주택 담보 대출 (거주 중)  2297230.5          2년          0.0   \n",
      "9997  TRAIN_09997  주택 담보 대출 (거주 중)  1221523.5      10년 이상          0.0   \n",
      "9998  TRAIN_09998               자가  3343584.0      10년 이상          0.0   \n",
      "9999  TRAIN_09999  주택 담보 대출 (거주 중)  2175133.5          5년          0.0   \n",
      "\n",
      "      개설된 신용계좌 수  신용 거래 연수   최대 신용한도  신용 문제 발생 횟수  마지막 연체 이후 경과 개월 수  \\\n",
      "0              9      13.4  400597.5            0                 24   \n",
      "1              5      15.1  360679.5            0                 11   \n",
      "2             12      18.8  491770.5            1                 74   \n",
      "3             15      14.8  411546.0            1                 22   \n",
      "4             11      26.1  895288.5            0                 32   \n",
      "...          ...       ...       ...          ...                ...   \n",
      "9995           9      18.7  319027.5            0                 68   \n",
      "9996          11      28.3  399799.5            0                  7   \n",
      "9997           9      30.1  823305.0            0                 14   \n",
      "9998          10      20.3  724314.0            0                 25   \n",
      "9999           5      24.9   52999.5            0                  9   \n",
      "\n",
      "      개인 파산 횟수   대출 목적 대출 상환 기간   현재 대출 잔액  현재 미상환 신용액  월 상환 부채액  신용 점수  \n",
      "0            1   부채 통합    단기 상환   390903.0    225457.5    8806.5    767  \n",
      "1            0   부채 통합    단기 상환  1002184.5     64749.0   24961.5    767  \n",
      "2            3   부채 통합    단기 상환   227775.0    487644.0   12069.0    800  \n",
      "3            1   부채 통합    단기 상환   251383.5    413211.0   31749.0    796  \n",
      "4            0   부채 통합    장기 상환  1163176.5     78991.5    5862.0    751  \n",
      "...        ...     ...      ...        ...         ...       ...    ...  \n",
      "9995         0   부채 통합    단기 상환   126216.0    177028.5    6237.0    755  \n",
      "9996         0  주택 개보수    장기 상환   371907.0    347449.5   53301.0    707  \n",
      "9997         0   부채 통합    장기 상환   869736.0    176905.5   11436.0    733  \n",
      "9998         0   부채 통합    단기 상환   443008.5    139294.5   25567.5    696  \n",
      "9999         0  주택 개보수    장기 상환  1152918.0    106930.5   12676.5    676  \n",
      "\n",
      "[10000 rows x 17 columns]\n"
     ]
    }
   ],
   "source": [
    "Y = df['채무 불이행 여부']\n",
    "X = df.drop('채무 불이행 여부', axis=1)\n",
    "\n",
    "print(X)"
   ]
  },
  {
   "cell_type": "code",
   "execution_count": 8,
   "metadata": {},
   "outputs": [
    {
     "name": "stdout",
     "output_type": "stream",
     "text": [
      "              UID  주거 형태      연간 소득  현재 직장 근속 연수  체납 세금 압류 횟수  개설된 신용계좌 수  \\\n",
      "0     TRAIN_00000      1  1941337.5            0          0.0           9   \n",
      "1     TRAIN_00001      0  1979505.0            0          0.0           5   \n",
      "2     TRAIN_00002      0  1356381.0            5          0.0          12   \n",
      "3     TRAIN_00003      0  1049017.5            7          0.0          15   \n",
      "4     TRAIN_00004      0  4320217.5            3          0.0          11   \n",
      "...           ...    ...        ...          ...          ...         ...   \n",
      "9995  TRAIN_09995      2  1339473.0            0          0.0           9   \n",
      "9996  TRAIN_09996      2  2297230.5            3          0.0          11   \n",
      "9997  TRAIN_09997      2  1221523.5            0          0.0           9   \n",
      "9998  TRAIN_09998      1  3343584.0            0          0.0          10   \n",
      "9999  TRAIN_09999      2  2175133.5            6          0.0           5   \n",
      "\n",
      "      신용 거래 연수   최대 신용한도  신용 문제 발생 횟수  마지막 연체 이후 경과 개월 수  개인 파산 횟수  대출 목적  \\\n",
      "0         13.4  400597.5            0                 24         1      4   \n",
      "1         15.1  360679.5            0                 11         0      4   \n",
      "2         18.8  491770.5            1                 74         3      4   \n",
      "3         14.8  411546.0            1                 22         1      4   \n",
      "4         26.1  895288.5            0                 32         0      4   \n",
      "...        ...       ...          ...                ...       ...    ...   \n",
      "9995      18.7  319027.5            0                 68         0      4   \n",
      "9996      28.3  399799.5            0                  7         0     11   \n",
      "9997      30.1  823305.0            0                 14         0      4   \n",
      "9998      20.3  724314.0            0                 25         0      4   \n",
      "9999      24.9   52999.5            0                  9         0     11   \n",
      "\n",
      "      대출 상환 기간   현재 대출 잔액  현재 미상환 신용액  월 상환 부채액  신용 점수  \n",
      "0            0   390903.0    225457.5    8806.5    767  \n",
      "1            0  1002184.5     64749.0   24961.5    767  \n",
      "2            0   227775.0    487644.0   12069.0    800  \n",
      "3            0   251383.5    413211.0   31749.0    796  \n",
      "4            1  1163176.5     78991.5    5862.0    751  \n",
      "...        ...        ...         ...       ...    ...  \n",
      "9995         0   126216.0    177028.5    6237.0    755  \n",
      "9996         1   371907.0    347449.5   53301.0    707  \n",
      "9997         1   869736.0    176905.5   11436.0    733  \n",
      "9998         0   443008.5    139294.5   25567.5    696  \n",
      "9999         1  1152918.0    106930.5   12676.5    676  \n",
      "\n",
      "[10000 rows x 17 columns]\n"
     ]
    }
   ],
   "source": [
    "# X 라벨 인코딩\n",
    "\n",
    "from sklearn.preprocessing import LabelEncoder\n",
    "def encode_feature(df):\n",
    "    \n",
    "    categories = ['주거 형태', '현재 직장 근속 연수', '대출 목적', '대출 상환 기간']\n",
    "    for cate_item in categories:\n",
    "        label_encoder = LabelEncoder()\n",
    "        df[cate_item] = label_encoder.fit_transform(df[cate_item])\n",
    "    \n",
    "    return df\n",
    "    \n",
    "encode_feature(X)\n",
    "print(X)\n"
   ]
  },
  {
   "cell_type": "code",
   "execution_count": 9,
   "metadata": {},
   "outputs": [
    {
     "data": {
      "text/plain": [
       "0       1\n",
       "1       0\n",
       "2       0\n",
       "3       0\n",
       "4       0\n",
       "       ..\n",
       "9995    2\n",
       "9996    2\n",
       "9997    2\n",
       "9998    1\n",
       "9999    2\n",
       "Name: 주거 형태, Length: 10000, dtype: int64"
      ]
     },
     "execution_count": 9,
     "metadata": {},
     "output_type": "execute_result"
    }
   ],
   "source": [
    "X['주거 형태']"
   ]
  },
  {
   "cell_type": "code",
   "execution_count": 10,
   "metadata": {},
   "outputs": [],
   "source": [
    "# 'UID' 제거 (식별자이므로 필요 없음)\n",
    "X = X.drop(columns=['UID'])"
   ]
  },
  {
   "cell_type": "code",
   "execution_count": 11,
   "metadata": {},
   "outputs": [
    {
     "name": "stdout",
     "output_type": "stream",
     "text": [
      "<class 'pandas.core.frame.DataFrame'>\n",
      "RangeIndex: 10000 entries, 0 to 9999\n",
      "Data columns (total 16 columns):\n",
      " #   Column             Non-Null Count  Dtype  \n",
      "---  ------             --------------  -----  \n",
      " 0   주거 형태              10000 non-null  int64  \n",
      " 1   연간 소득              10000 non-null  float64\n",
      " 2   현재 직장 근속 연수        10000 non-null  int64  \n",
      " 3   체납 세금 압류 횟수        10000 non-null  float64\n",
      " 4   개설된 신용계좌 수         10000 non-null  int64  \n",
      " 5   신용 거래 연수           10000 non-null  float64\n",
      " 6   최대 신용한도            10000 non-null  float64\n",
      " 7   신용 문제 발생 횟수        10000 non-null  int64  \n",
      " 8   마지막 연체 이후 경과 개월 수  10000 non-null  int64  \n",
      " 9   개인 파산 횟수           10000 non-null  int64  \n",
      " 10  대출 목적              10000 non-null  int64  \n",
      " 11  대출 상환 기간           10000 non-null  int64  \n",
      " 12  현재 대출 잔액           10000 non-null  float64\n",
      " 13  현재 미상환 신용액         10000 non-null  float64\n",
      " 14  월 상환 부채액           10000 non-null  float64\n",
      " 15  신용 점수              10000 non-null  int64  \n",
      "dtypes: float64(7), int64(9)\n",
      "memory usage: 1.2 MB\n"
     ]
    }
   ],
   "source": [
    "X.info()"
   ]
  },
  {
   "cell_type": "code",
   "execution_count": 12,
   "metadata": {},
   "outputs": [
    {
     "data": {
      "text/plain": [
       "(0.6613333333333333, 0.6456)"
      ]
     },
     "execution_count": 12,
     "metadata": {},
     "output_type": "execute_result"
    }
   ],
   "source": [
    "from sklearn.linear_model import LogisticRegression\n",
    "from sklearn.model_selection import train_test_split\n",
    "\n",
    "X_train, X_test, y_train, y_test = train_test_split(X, Y, random_state=42)\n",
    "\n",
    "lr_clf = LogisticRegression(max_iter=1000)\n",
    "lr_clf.fit(X_train, y_train)\n",
    "lr_clf.score(X_train, y_train), lr_clf.score(X_test, y_test)\n"
   ]
  },
  {
   "cell_type": "code",
   "execution_count": 13,
   "metadata": {},
   "outputs": [],
   "source": [
    "# 예측\n",
    "pred_train = lr_clf.predict(X_train)\n",
    "pred_test = lr_clf.predict(X_test)"
   ]
  },
  {
   "cell_type": "code",
   "execution_count": 14,
   "metadata": {},
   "outputs": [
    {
     "name": "stdout",
     "output_type": "stream",
     "text": [
      "훈련 데이터 정확도:\n",
      " 0.6613333333333333\n",
      "훈련 데이터 정밀도:\n",
      " 0.3076923076923077\n",
      "훈련 데이터 재현율:\n",
      " 0.0031620553359683794\n",
      "==============================\n",
      "평가 데이터 정확도:\n",
      " 0.6456\n",
      "평가 데이터 정밀도:\n",
      " 0.25\n",
      "평가 데이터 재현율:\n",
      " 0.0022675736961451248\n"
     ]
    }
   ],
   "source": [
    "from sklearn.metrics import accuracy_score,precision_score,recall_score\n",
    "\n",
    "# 평가 (accuracy_score 사용)\n",
    "print(\"훈련 데이터 정확도:\\n\", accuracy_score(y_train, pred_train))\n",
    "print(\"훈련 데이터 정밀도:\\n\", precision_score(y_train, pred_train))\n",
    "print(\"훈련 데이터 재현율:\\n\", recall_score(y_train, pred_train))\n",
    "\n",
    "print('='*30)\n",
    "\n",
    "print(\"평가 데이터 정확도:\\n\", accuracy_score(y_test, pred_test))\n",
    "print(\"평가 데이터 정밀도:\\n\", precision_score(y_test, pred_test))\n",
    "print(\"평가 데이터 재현율:\\n\", recall_score(y_test, pred_test))"
   ]
  },
  {
   "cell_type": "code",
   "execution_count": 16,
   "metadata": {},
   "outputs": [
    {
     "name": "stdout",
     "output_type": "stream",
     "text": [
      "훈련 데이터 정확도 0.6613333333333333\n",
      "평가 데이터 정확도 0.6456\n",
      "              precision    recall  f1-score   support\n",
      "\n",
      "           0       0.65      1.00      0.78      1618\n",
      "           1       0.25      0.00      0.00       882\n",
      "\n",
      "    accuracy                           0.65      2500\n",
      "   macro avg       0.45      0.50      0.39      2500\n",
      "weighted avg       0.51      0.65      0.51      2500\n",
      "\n"
     ]
    }
   ],
   "source": [
    "from sklearn.metrics import accuracy_score, classification_report\n",
    "\n",
    "print(f'훈련 데이터 정확도 {accuracy_score(y_train, pred_train)}')\n",
    "print(f'평가 데이터 정확도 {accuracy_score(y_test, pred_test)}')\n",
    "\n",
    "print(classification_report(y_test, pred_test))"
   ]
  },
  {
   "cell_type": "code",
   "execution_count": null,
   "metadata": {},
   "outputs": [],
   "source": []
  }
 ],
 "metadata": {
  "kernelspec": {
   "display_name": "dacon",
   "language": "python",
   "name": "python3"
  },
  "language_info": {
   "codemirror_mode": {
    "name": "ipython",
    "version": 3
   },
   "file_extension": ".py",
   "mimetype": "text/x-python",
   "name": "python",
   "nbconvert_exporter": "python",
   "pygments_lexer": "ipython3",
   "version": "3.10.0"
  }
 },
 "nbformat": 4,
 "nbformat_minor": 2
}
